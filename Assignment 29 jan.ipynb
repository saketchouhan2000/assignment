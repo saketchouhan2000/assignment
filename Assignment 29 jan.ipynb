{
 "cells": [
  {
   "cell_type": "code",
   "execution_count": null,
   "id": "64d2e9fe-8b99-45e9-969c-c1f679a2b6d6",
   "metadata": {},
   "outputs": [],
   "source": [
    "Q1= Who developed python programming Language?"
   ]
  },
  {
   "cell_type": "code",
   "execution_count": null,
   "id": "91670419-ddc5-4fda-a6db-794028720aa0",
   "metadata": {},
   "outputs": [],
   "source": [
    "Ans=Guido van Rossum"
   ]
  },
  {
   "cell_type": "code",
   "execution_count": null,
   "id": "1d27c642-17c7-4f70-826c-b0fb8fbdc6fc",
   "metadata": {},
   "outputs": [],
   "source": [
    "Q2=Which type of programming does python support?"
   ]
  },
  {
   "cell_type": "code",
   "execution_count": null,
   "id": "1c40f60e-0b95-4c8a-8760-f1288102ca1b",
   "metadata": {},
   "outputs": [],
   "source": [
    "Ans=Python supports several programming paradigms including object-oriented programming,\n",
    "procedural programming, and functional programming. It also supports scripting and can be used for \n",
    "data analysis and visualization"
   ]
  },
  {
   "cell_type": "code",
   "execution_count": null,
   "id": "5e2fb366-dc92-4c53-8b33-9c259f373b33",
   "metadata": {},
   "outputs": [],
   "source": [
    "Q3=is python case sensitive when dealing with identifiers?"
   ]
  },
  {
   "cell_type": "code",
   "execution_count": null,
   "id": "16e2df85-23b3-49e3-8c1c-0f40f7d97bdf",
   "metadata": {},
   "outputs": [],
   "source": [
    "Ans=Yes, python is case sensitive when dealing with identifiers."
   ]
  },
  {
   "cell_type": "code",
   "execution_count": null,
   "id": "17b1d6c7-73ca-4fa1-bab5-0a2b4de186af",
   "metadata": {},
   "outputs": [],
   "source": [
    "Q4=What is the correct extension of the python file?"
   ]
  },
  {
   "cell_type": "code",
   "execution_count": null,
   "id": "4b1216ba-948d-4857-bbf6-9db51daed2a3",
   "metadata": {},
   "outputs": [],
   "source": [
    "Ans=The correct extension of the python file is .py for example if file name is\n",
    "\"sample\" the file extension should be \"sample.py\""
   ]
  },
  {
   "cell_type": "code",
   "execution_count": null,
   "id": "2715ffb8-4b69-4484-a6c8-9a61944aec51",
   "metadata": {},
   "outputs": [],
   "source": [
    "Q5=Is python file compiled or interpreted?"
   ]
  },
  {
   "cell_type": "code",
   "execution_count": null,
   "id": "a5db1ecc-782b-4e82-a46f-3d95781736d3",
   "metadata": {},
   "outputs": [],
   "source": [
    "Ans=Python is an interpreted language, not a compiled language. This means that the source \n",
    "code is interpreted line by line at runtime, rather than being compiled into machine code before\n",
    "execution. This makes it easier to write, test, and debug code in Python compared to compiled languages."
   ]
  },
  {
   "cell_type": "code",
   "execution_count": null,
   "id": "7affcfdd-4c0d-4c4d-bdd7-895efad84d90",
   "metadata": {},
   "outputs": [],
   "source": [
    "Q6=Name a few blocks of code used to define in python language?"
   ]
  },
  {
   "cell_type": "code",
   "execution_count": null,
   "id": "3fa95031-43f8-42ec-b03b-4131217bdba7",
   "metadata": {},
   "outputs": [],
   "source": [
    "Ans=A few blocks of code used to define in Python are:\n",
    "Functions - A block of code that can be reused multiple times by calling the function.\n",
    "Classes - A blueprint for creating objects, which can have properties and methods.\n",
    "If-Else Statements - A block of code that is executed if a certain condition is met, or a \n",
    "different block of code is executed otherwise.\n",
    "Loops - A block of code that is repeatedly executed as long as a certain condition is met. \n",
    "For example, \"for\" and \"while\" loops."
   ]
  },
  {
   "cell_type": "code",
   "execution_count": null,
   "id": "7e1a774a-8340-4935-8e32-79ba4de232df",
   "metadata": {},
   "outputs": [],
   "source": [
    "Q7=State a character used to give single-line comments in python?"
   ]
  },
  {
   "cell_type": "code",
   "execution_count": null,
   "id": "24608281-54d2-4dbf-ae2a-5666b0623a84",
   "metadata": {},
   "outputs": [],
   "source": [
    "Ans='#' is used for single line comments"
   ]
  },
  {
   "cell_type": "code",
   "execution_count": null,
   "id": "afab02aa-8d2d-4719-9861-63722f8796f2",
   "metadata": {},
   "outputs": [],
   "source": [
    "Q8=Method functions which can help us to find the version of python that we are currenty\n",
    "working on?"
   ]
  },
  {
   "cell_type": "code",
   "execution_count": null,
   "id": "2fe83e2d-4743-4282-bf75-baa38d6857a4",
   "metadata": {},
   "outputs": [],
   "source": [
    "Ans=We can use 'sys' for find the version of python that we are using."
   ]
  },
  {
   "cell_type": "code",
   "execution_count": null,
   "id": "99b0332e-e884-42dd-8944-22435f165c69",
   "metadata": {},
   "outputs": [],
   "source": [
    "Q9=Pythons supports the creation of anonymous functions at runtime,\n",
    "using a construct called __________"
   ]
  },
  {
   "cell_type": "code",
   "execution_count": null,
   "id": "4289533c-ce25-4fd5-924a-6a0722d97f44",
   "metadata": {},
   "outputs": [],
   "source": [
    "Ans=\"lambda function\""
   ]
  },
  {
   "cell_type": "code",
   "execution_count": null,
   "id": "3f93ebcf-099c-4619-96fe-a0e44efdb40e",
   "metadata": {},
   "outputs": [],
   "source": [
    "Q10=What does pip stand for python?"
   ]
  },
  {
   "cell_type": "code",
   "execution_count": null,
   "id": "faa8bf24-04f5-4005-b6dd-00738e26d607",
   "metadata": {},
   "outputs": [],
   "source": [
    "Ans=\"pip\" stands for \"Pip Installs Packages.\" It is a package management system for installing\n",
    "and managing packages in Python. It allows you to install packages from the Python Package Index \n",
    "(PyPI) and other package indexes."
   ]
  },
  {
   "cell_type": "code",
   "execution_count": null,
   "id": "b3300dda-2689-4a58-bc13-9e3ca5cddaaa",
   "metadata": {},
   "outputs": [],
   "source": [
    "Q11=Mention a few built-in functions in python?"
   ]
  },
  {
   "cell_type": "code",
   "execution_count": null,
   "id": "738568d0-d296-463c-86e2-eb13626bdf33",
   "metadata": {},
   "outputs": [],
   "source": [
    "Ans=1 Print()\n",
    "    2 Len()\n",
    "    3 int()\n",
    "    4 str()\n",
    "    5 Float()"
   ]
  },
  {
   "cell_type": "code",
   "execution_count": null,
   "id": "9eec23ff-2430-4880-a6db-ec17b1144e68",
   "metadata": {},
   "outputs": [],
   "source": [
    "Q12=What is the maximum possible length of an identifier in python?"
   ]
  },
  {
   "cell_type": "code",
   "execution_count": null,
   "id": "7311313b-94aa-4ed6-98d3-156cc8e1b30d",
   "metadata": {},
   "outputs": [],
   "source": [
    "Ans=There is no specific limit.  However, in practice, the length is limited by the underlying \n",
    "operating system and the amount of memory available."
   ]
  },
  {
   "cell_type": "code",
   "execution_count": null,
   "id": "8da9f3f5-6cb4-4709-9516-034c6404083d",
   "metadata": {},
   "outputs": [],
   "source": [
    "Q13=What are the benefits of using python?"
   ]
  },
  {
   "cell_type": "code",
   "execution_count": null,
   "id": "e38d8eb0-1702-40ff-b611-fb4f270cf1f6",
   "metadata": {},
   "outputs": [],
   "source": [
    "Ans=Easy to learn and use: Python has a simple and straightforward syntax that makes it \n",
    "easy to learn and understand, even for those with little programming experience.\n",
    "High-level language: Python is a high-level language that provides a higher level of \n",
    "abstraction than low-level languages like C or Assembly. This makes it easie to write and debug code.\n",
    "Versatile: Python can be used for a wide range of applications, including web development, scientific \n",
    "computing, data analysis, machine learning, artificial intelligence, and more."
   ]
  },
  {
   "cell_type": "code",
   "execution_count": null,
   "id": "e9748bb0-57f0-471e-a32b-3d362162c3ee",
   "metadata": {},
   "outputs": [],
   "source": [
    "Q14=How is memory managed in python?"
   ]
  },
  {
   "cell_type": "code",
   "execution_count": null,
   "id": "85cc6000-c013-4d6c-9f7e-f0787b71641d",
   "metadata": {},
   "outputs": [],
   "source": [
    "Ans=Memory in Python is managed by the Python interpreter, also known as the memory \n",
    "manager. The memory manager is responsible for allocating and freeing memory as needed,\n",
    "and it uses a technique called reference counting to keep track of the number of references\n",
    "to an object. When the reference count of an object reaches zero, the memory manager automatically\n",
    "frees the memory associated with that object."
   ]
  },
  {
   "cell_type": "code",
   "execution_count": null,
   "id": "6621747d-e0c6-4fd5-8ad5-7d2238a89741",
   "metadata": {},
   "outputs": [],
   "source": [
    "Q15=How to install python on windows and set path variable?"
   ]
  },
  {
   "cell_type": "code",
   "execution_count": null,
   "id": "2fcaa1ac-37a5-42f9-8ab2-e27309d3e41a",
   "metadata": {},
   "outputs": [],
   "source": [
    "Ans=Here is a step-by-step guide to install Python on Windows and set the path variable:\n",
    "Download the Python Installer: Go to the official Python website (https://www.python.org/\n",
    "downloads/) and download the latest version of Python for Windows. Run the Installer: Double-click on the downloaded Python installer to run it. Follow the on-screen instructions to install Python on your system. Make sure to check the option to \"Add Python to PATH\" during the installation process.\n",
    "Check Python Version: Open the Command Prompt and type the following command to check the installed version of Python:"
   ]
  },
  {
   "cell_type": "code",
   "execution_count": null,
   "id": "f2b1373f-f0dc-41dc-9636-048e4d6f3031",
   "metadata": {},
   "outputs": [],
   "source": [
    "Q16=Is identation required in python?"
   ]
  },
  {
   "cell_type": "code",
   "execution_count": null,
   "id": "8971ccc7-f551-4158-a046-1aaab126d275",
   "metadata": {},
   "outputs": [],
   "source": [
    "Ans=Yes, indentation is required in Python. Indentation is used to define the block \n",
    "of code, and it is a crucial aspect of Python's syntax"
   ]
  }
 ],
 "metadata": {
  "kernelspec": {
   "display_name": "Python 3 (ipykernel)",
   "language": "python",
   "name": "python3"
  },
  "language_info": {
   "codemirror_mode": {
    "name": "ipython",
    "version": 3
   },
   "file_extension": ".py",
   "mimetype": "text/x-python",
   "name": "python",
   "nbconvert_exporter": "python",
   "pygments_lexer": "ipython3",
   "version": "3.10.8"
  }
 },
 "nbformat": 4,
 "nbformat_minor": 5
}
